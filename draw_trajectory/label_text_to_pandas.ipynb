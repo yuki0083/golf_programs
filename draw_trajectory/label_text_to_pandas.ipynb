{
 "cells": [
  {
   "cell_type": "code",
   "execution_count": 14,
   "source": [
    "import pandas as pd\n",
    "import cv2\n",
    "import os\n",
    "import glob"
   ],
   "outputs": [],
   "metadata": {}
  },
  {
   "cell_type": "code",
   "execution_count": 5,
   "source": [
    "video_path ='../golf_data/raw_data/750.MP4'"
   ],
   "outputs": [],
   "metadata": {}
  },
  {
   "cell_type": "code",
   "execution_count": 13,
   "source": [
    "source = os.path.basename(video_path).split('.')[0]"
   ],
   "outputs": [],
   "metadata": {}
  },
  {
   "cell_type": "code",
   "execution_count": 6,
   "source": [
    "def get_video_prop(video_path):\n",
    "    video = cv2.VideoCapture(video_path)\n",
    "\n",
    "    #幅\n",
    "    W = video.get(cv2.CAP_PROP_FRAME_WIDTH)\n",
    "    # 高さ\n",
    "    H = video.get(cv2.CAP_PROP_FRAME_HEIGHT)\n",
    "    # 総フレーム数\n",
    "    count = video.get(cv2.CAP_PROP_FRAME_COUNT)\n",
    "    # fps\n",
    "    fps = video.get(cv2.CAP_PROP_FPS)\n",
    "\n",
    "    vido_prop = [W, H, count, fps]\n",
    "    return vido_prop\n"
   ],
   "outputs": [],
   "metadata": {}
  },
  {
   "cell_type": "code",
   "execution_count": 7,
   "source": [
    "video_prop = get_video_prop(video_path)"
   ],
   "outputs": [],
   "metadata": {}
  },
  {
   "cell_type": "code",
   "execution_count": 16,
   "source": [
    "#推論データの保存場所\n",
    "project = 'runs/detect'\n",
    "name = 'exp'"
   ],
   "outputs": [],
   "metadata": {}
  },
  {
   "cell_type": "code",
   "execution_count": 27,
   "source": [
    "#runs/detect/exp_n_/のパスを取得\n",
    "print(glob.glob('../'+ project + '/*/'))"
   ],
   "outputs": [
    {
     "output_type": "stream",
     "name": "stdout",
     "text": [
      "['../runs/detect/exp/']\n"
     ]
    }
   ],
   "metadata": {}
  },
  {
   "cell_type": "code",
   "execution_count": 37,
   "source": [
    "exp_n_path_list = glob.glob('../'+ project + '/*/')\n",
    "exp_n_path = exp_n_path_list[0]"
   ],
   "outputs": [],
   "metadata": {}
  },
  {
   "cell_type": "code",
   "execution_count": 49,
   "source": [
    "def check_trafectory_video_exist(exp_n_path):\n",
    "    result = glob.glob(exp_n_path + '*' + '_trajectory.MP4')\n",
    "    if result == []:\n",
    "    #exist =os.path.exists(exp_n_path + '*' + '_trajectory.MP4')\n",
    "        return False\n",
    "    else:\n",
    "        return True\n",
    "    "
   ],
   "outputs": [],
   "metadata": {}
  },
  {
   "cell_type": "code",
   "execution_count": 50,
   "source": [
    "os.path.exists(exp_n_path + source + '_trajectory.MP4')"
   ],
   "outputs": [
    {
     "output_type": "execute_result",
     "data": {
      "text/plain": [
       "False"
      ]
     },
     "metadata": {},
     "execution_count": 50
    }
   ],
   "metadata": {}
  },
  {
   "cell_type": "code",
   "execution_count": 51,
   "source": [
    "def not_trajectory_path(project):\n",
    "    exp_n_path_list = glob.glob('../'+ project + '/*/')\n",
    "    result = []\n",
    "    for exp_n_path in exp_n_path_list:\n",
    "        exist = check_trafectory_video_exist(exp_n_path)\n",
    "        if exist == False:\n",
    "            result.append(exp_n_path)\n",
    "        return result"
   ],
   "outputs": [],
   "metadata": {}
  },
  {
   "cell_type": "code",
   "execution_count": 52,
   "source": [
    "not_trajectory_path(project)"
   ],
   "outputs": [
    {
     "output_type": "execute_result",
     "data": {
      "text/plain": [
       "['../runs/detect/exp/']"
      ]
     },
     "metadata": {},
     "execution_count": 52
    }
   ],
   "metadata": {}
  },
  {
   "cell_type": "code",
   "execution_count": null,
   "source": [],
   "outputs": [],
   "metadata": {}
  },
  {
   "cell_type": "code",
   "execution_count": null,
   "source": [],
   "outputs": [],
   "metadata": {}
  }
 ],
 "metadata": {
  "orig_nbformat": 4,
  "language_info": {
   "name": "python",
   "version": "3.8.10",
   "mimetype": "text/x-python",
   "codemirror_mode": {
    "name": "ipython",
    "version": 3
   },
   "pygments_lexer": "ipython3",
   "nbconvert_exporter": "python",
   "file_extension": ".py"
  },
  "kernelspec": {
   "name": "python3",
   "display_name": "Python 3.8.10 64-bit ('.venv': venv)"
  },
  "interpreter": {
   "hash": "fa8cd1832f80194df4bd9273efa92fe29319308de23193ab714100b25b07cc59"
  }
 },
 "nbformat": 4,
 "nbformat_minor": 2
}